{
 "cells": [
  {
   "cell_type": "code",
   "execution_count": 1,
   "id": "d1f9bf9e",
   "metadata": {},
   "outputs": [
    {
     "name": "stdout",
     "output_type": "stream",
     "text": [
      "\n",
      "The given training examples are:\n",
      "    Color Toughness Fungus Appearance Poisonous\n",
      "0   GREEN      HARD     NO   WRINKLED       YES\n",
      "1   GREEN      HARD    YES     SMOOTH        NO\n",
      "2   BROWN      SOFT     NO   WRINKLED        NO\n",
      "3  ORANGE      HARD     NO   WRINKLED       YES\n",
      "4   GREEN      SOFT    YES     SMOOTH        NO\n",
      "5   GREEN      HARD    YES   WRINKLED       YES\n",
      "6  ORANGE      HARD     NO   WRINKLED       YES\n"
     ]
    }
   ],
   "source": [
    "import numpy as np\n",
    "import pandas as pd\n",
    "data = pd.read_csv(r\"D:\\example_dataset.csv\")\n",
    "print(\"\\nThe given training examples are:\")\n",
    "print(data)"
   ]
  },
  {
   "cell_type": "code",
   "execution_count": 2,
   "id": "63c8552b",
   "metadata": {},
   "outputs": [
    {
     "name": "stdout",
     "output_type": "stream",
     "text": [
      "\n",
      "The positive examples are:\n",
      "    Color Toughness Fungus Appearance Poisonous\n",
      "0   GREEN      HARD     NO   WRINKLED       YES\n",
      "3  ORANGE      HARD     NO   WRINKLED       YES\n",
      "5   GREEN      HARD    YES   WRINKLED       YES\n",
      "6  ORANGE      HARD     NO   WRINKLED       YES\n"
     ]
    }
   ],
   "source": [
    "hypo=['%'] * 4 \n",
    "positive_examples = data[data.iloc[:, -1] == 'YES']\n",
    "print(\"\\nThe positive examples are:\")\n",
    "print(positive_examples)"
   ]
  },
  {
   "cell_type": "code",
   "execution_count": 3,
   "id": "fca590b5",
   "metadata": {},
   "outputs": [
    {
     "name": "stdout",
     "output_type": "stream",
     "text": [
      "\n",
      "Initial hypothesis: ['GREEN', 'HARD', 'NO', 'WRINKLED']\n",
      "\n",
      " Iteration 1\n",
      "Current hypothesis: ['GREEN', 'HARD', 'NO', 'WRINKLED']\n",
      "Updated hypothesis: ['?', 'HARD', 'NO', 'WRINKLED']\n",
      "\n",
      " Iteration 2\n",
      "Current hypothesis: ['?', 'HARD', 'NO', 'WRINKLED']\n",
      "Updated hypothesis: ['?', 'HARD', '?', 'WRINKLED']\n",
      "\n",
      " Iteration 3\n",
      "Current hypothesis: ['?', 'HARD', '?', 'WRINKLED']\n",
      "Updated hypothesis: ['?', 'HARD', '?', 'WRINKLED']\n"
     ]
    }
   ],
   "source": [
    "hypo = positive_examples.iloc[0, :-1].tolist()\n",
    "print(\"\\nInitial hypothesis:\", hypo)\n",
    "for i in range(1, len(positive_examples)):\n",
    "    print(\"\\n Iteration\", i)\n",
    "    print(\"Current hypothesis:\", hypo)\n",
    "    for j in range(len(hypo)):\n",
    "        if hypo[j] != positive_examples.iloc[i, j]:\n",
    "            hypo[j] = '?'\n",
    "    print(\"Updated hypothesis:\", hypo)"
   ]
  },
  {
   "cell_type": "code",
   "execution_count": 4,
   "id": "3cbfb3d3",
   "metadata": {},
   "outputs": [
    {
     "name": "stdout",
     "output_type": "stream",
     "text": [
      "\n",
      "The maximally specific Find-s hypothesis for the given training examples is :\n",
      "['?', 'HARD', '?', 'WRINKLED']\n"
     ]
    }
   ],
   "source": [
    "print(\"\\nThe maximally specific Find-s hypothesis for the given training examples is :\")\n",
    "print(hypo)"
   ]
  }
 ],
 "metadata": {
  "kernelspec": {
   "display_name": "Python 3 (ipykernel)",
   "language": "python",
   "name": "python3"
  },
  "language_info": {
   "codemirror_mode": {
    "name": "ipython",
    "version": 3
   },
   "file_extension": ".py",
   "mimetype": "text/x-python",
   "name": "python",
   "nbconvert_exporter": "python",
   "pygments_lexer": "ipython3",
   "version": "3.9.13"
  }
 },
 "nbformat": 4,
 "nbformat_minor": 5
}
